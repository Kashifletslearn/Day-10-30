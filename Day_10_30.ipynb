{
  "nbformat": 4,
  "nbformat_minor": 0,
  "metadata": {
    "colab": {
      "provenance": [],
      "authorship_tag": "ABX9TyO1RhiqY+l9d6TPmhrzRboZ",
      "include_colab_link": true
    },
    "kernelspec": {
      "name": "python3",
      "display_name": "Python 3"
    },
    "language_info": {
      "name": "python"
    }
  },
  "cells": [
    {
      "cell_type": "markdown",
      "metadata": {
        "id": "view-in-github",
        "colab_type": "text"
      },
      "source": [
        "<a href=\"https://colab.research.google.com/github/Kashifletslearn/Day-10-30/blob/main/Day_10_30.ipynb\" target=\"_parent\"><img src=\"https://colab.research.google.com/assets/colab-badge.svg\" alt=\"Open In Colab\"/></a>"
      ]
    },
    {
      "cell_type": "markdown",
      "source": [
        "# Hello i am Kashif khan let's learn together\n",
        "\n",
        "1.   Github   : https://github.com/Kashifletslearn/Day-10-30\n",
        "2.   Linkedin : https://www.linkedin.com/in/kashifkhank/\n",
        "3.   Gmail    : kashifdocument11@gmail.com\n",
        "\n",
        "\n",
        "\n"
      ],
      "metadata": {
        "id": "__Jx8D8lKlcU"
      }
    },
    {
      "cell_type": "markdown",
      "source": [
        "#For suggestions and improvement Email me\n"
      ],
      "metadata": {
        "id": "NSCSBEllfsLt"
      }
    },
    {
      "cell_type": "markdown",
      "metadata": {
        "id": "EaYw9Z03TlYa"
      },
      "source": [
        "### <u> Problem 1</u>\n",
        "\n",
        "#### Aliens receive the reply from the scientists. They decode the message and send an encrypted message again. Due to some aberrations because of an existing very massive star, one of the words of their message gets transformed into something gibberish/unreadable. They sent the following message:\n",
        "\n",
        "* <code> I saw a \\<**some gibberish**> please help me soon\n",
        "\n",
        "#### Scientists were baffled by the presence of such an indecipherable word in the message sent by Aliens. Suddenly they receive another signal from them which contains the gibberish word but this time the letters have been jumbled up. Scientists need to sort the letters of this word in alphabetical order within it to get the actual transmitted word\n",
        "\n",
        "#### The encoded list of the unknown word is:\n",
        "\n",
        "```\n",
        "jumbled_word = [\"hugdtck\", \"tsogbklesrawqcbjplu\", \"qkisrubskoaitbt\", \"nslaoetr\", \"oksinjioaendnjsdqwbh\"]\n",
        "```\n"
      ]
    },
    {
      "cell_type": "code",
      "metadata": {
        "id": "--89g4fAVP6i"
      },
      "source": [
        "jumbled_word = [\"hugdtck\", \"tsogbklesrawqcbjplu\", \"qkisrubskoaitbt\", \"nslaoetr\", \"oksinjioaendnjsdqwbh\"]"
      ],
      "execution_count": 7,
      "outputs": []
    },
    {
      "cell_type": "code",
      "metadata": {
        "id": "l9K6_UWqkyOC",
        "colab": {
          "base_uri": "https://localhost:8080/"
        },
        "outputId": "638f52e0-b2f7-4941-d8d6-e25632cf5e6f"
      },
      "source": [
        "\n",
        "# Create a list of numbers from 0 to 26 using the range() function\n",
        "list_of_numbers = list(range(27))\n",
        "\n",
        "# Create the list of alphabets\n",
        "alphabets = \" ,a,b,c,d,e,f,g,h,i,j,k,l,m,n,o,p,q,r,s,t,u,v,w,x,y,z\"\n",
        "\n",
        "alphabet_list = alphabets.split(',')\n",
        "print(alphabet_list)"
      ],
      "execution_count": 8,
      "outputs": [
        {
          "output_type": "stream",
          "name": "stdout",
          "text": [
            "[' ', 'a', 'b', 'c', 'd', 'e', 'f', 'g', 'h', 'i', 'j', 'k', 'l', 'm', 'n', 'o', 'p', 'q', 'r', 's', 't', 'u', 'v', 'w', 'x', 'y', 'z']\n"
          ]
        }
      ]
    },
    {
      "cell_type": "code",
      "metadata": {
        "id": "9bnRPQ9G971m",
        "colab": {
          "base_uri": "https://localhost:8080/"
        },
        "outputId": "b6143f6f-34f2-42b3-cb19-82f8dfbade32"
      },
      "source": [
        "# Create a dictionary by zipping together the above two lists\n",
        "alphabet_dict = dict(zip(list_of_numbers,alphabet_list))\n",
        "\n",
        "print(alphabet_dict)"
      ],
      "execution_count": 9,
      "outputs": [
        {
          "output_type": "stream",
          "name": "stdout",
          "text": [
            "{0: ' ', 1: 'a', 2: 'b', 3: 'c', 4: 'd', 5: 'e', 6: 'f', 7: 'g', 8: 'h', 9: 'i', 10: 'j', 11: 'k', 12: 'l', 13: 'm', 14: 'n', 15: 'o', 16: 'p', 17: 'q', 18: 'r', 19: 's', 20: 't', 21: 'u', 22: 'v', 23: 'w', 24: 'x', 25: 'y', 26: 'z'}\n"
          ]
        }
      ]
    },
    {
      "cell_type": "code",
      "metadata": {
        "id": "REhBM4O0WB6i",
        "outputId": "b0aedb3a-3495-4c66-fea7-2e39b0bde010",
        "colab": {
          "base_uri": "https://localhost:8080/"
        }
      },
      "source": [
        "string_length_list = []\n",
        "\n",
        "# Appending each word\n",
        "for string in jumbled_word:\n",
        "  string_length_list.append(len(string))\n",
        "\n",
        "print(string_length_list)\n",
        "\n",
        "# Create another list and adding character using for loop\n",
        "chars_in_jumbled_state = []\n",
        "\n",
        "for length in string_length_list:\n",
        "  chars_in_jumbled_state.append(alphabet_dict[length])\n",
        "\n",
        "print(chars_in_jumbled_state)"
      ],
      "execution_count": 10,
      "outputs": [
        {
          "output_type": "stream",
          "name": "stdout",
          "text": [
            "[7, 19, 15, 8, 20]\n",
            "['g', 's', 'o', 'h', 't']\n"
          ]
        }
      ]
    },
    {
      "cell_type": "code",
      "metadata": {
        "id": "APZPcWabCmL-",
        "outputId": "266a824c-ff9b-4d3f-ddfd-43dc8d5b5c4d",
        "colab": {
          "base_uri": "https://localhost:8080/"
        }
      },
      "source": [
        "sorted_char_list = sorted(chars_in_jumbled_state)\n",
        "\n",
        "sorted_char_list\n",
        "\n",
        "# Geting all the characters in one word.\n",
        "correct_word = \"\".join(sorted_char_list)\n",
        "\n",
        "print(f\"I saw a {correct_word} please help me soon\")"
      ],
      "execution_count": 11,
      "outputs": [
        {
          "output_type": "stream",
          "name": "stdout",
          "text": [
            "I saw a ghost please help me soon\n"
          ]
        }
      ]
    },
    {
      "cell_type": "markdown",
      "metadata": {
        "id": "BhlJiGNfC8r-"
      },
      "source": [
        "## <u> Problem 2</u>\n",
        "\n",
        "### A perfect number is a positive integer that is equal to the sum of its proper divisors. The smallest perfect number is 6, which is the sum of 1, 2, and 3. Based on a given user input, you need to print whether than input is a perfect number or not. Check on sample inputs such as 28, 128, 200, 496"
      ]
    },
    {
      "cell_type": "code",
      "metadata": {
        "id": "lk1KMEkcE2Pt",
        "colab": {
          "base_uri": "https://localhost:8080/"
        },
        "outputId": "bba760ce-515e-4c54-bbef-4dc1978de9d5"
      },
      "source": [
        "perfect_number_candidate = int(input())"
      ],
      "execution_count": 12,
      "outputs": [
        {
          "name": "stdout",
          "output_type": "stream",
          "text": [
            "30\n"
          ]
        }
      ]
    },
    {
      "cell_type": "code",
      "metadata": {
        "id": "CP0cCudsI6U-",
        "colab": {
          "base_uri": "https://localhost:8080/"
        },
        "outputId": "c3c1b71e-a2fd-446b-e529-3a1d89b6dc62"
      },
      "source": [
        "# Using a while loop\n",
        "i = 2\n",
        "sum = 1\n",
        "\n",
        "\n",
        "# note : while(i <= perfect_number_candidate//2 ) : because\n",
        "#In the case of 28, half of the number is 14 (28 // 2).\n",
        "# If you were to check divisors beyond 14,\n",
        "# it would be redundant because any divisor larger than 14 would have a corresponding divisor smaller than 14.\n",
        "\n",
        "\n",
        "while(i <= perfect_number_candidate//2 ) :\n",
        "  if (perfect_number_candidate % i == 0) :\n",
        "    sum += i\n",
        "  i += 1\n",
        "\n",
        "\n",
        "if sum == perfect_number_candidate :\n",
        " print(f'{perfect_number_candidate} is a perfect number')\n",
        "\n",
        "else :\n",
        " print(f'{perfect_number_candidate} is not a perfect number')"
      ],
      "execution_count": 13,
      "outputs": [
        {
          "output_type": "stream",
          "name": "stdout",
          "text": [
            "30 is not a perfect number\n"
          ]
        }
      ]
    },
    {
      "cell_type": "markdown",
      "metadata": {
        "id": "hsmBSIrtFvlr"
      },
      "source": [
        "## <u> Problem 3</u>\n",
        "\n",
        "### Consider a famous movie line by Liam Neeson. You need to print only those words from this famous line whose length is greater than 3. Also the output words should be unique.You need to take care of the special characters such as ,."
      ]
    },
    {
      "cell_type": "code",
      "metadata": {
        "id": "E9GOFXVOFcsJ",
        "colab": {
          "base_uri": "https://localhost:8080/"
        },
        "outputId": "6ef98c60-8a6e-46bf-9529-4910637d22a1"
      },
      "source": [
        "movie_quote = \"If you let my daughter go now, that'll be the end of it. I will not look for you, I will not pursue you. But if you don't, I will look for you, I will find you, and I will kill you.\"\n",
        "\n",
        "# removing comma (,) and  full stop (.) by using replace function\n",
        "movie_quote = movie_quote.replace(',','')\n",
        "movie_quote = movie_quote.replace('.','')\n",
        "\n",
        "print(movie_quote)\n"
      ],
      "execution_count": 14,
      "outputs": [
        {
          "output_type": "stream",
          "name": "stdout",
          "text": [
            "If you let my daughter go now that'll be the end of it I will not look for you I will not pursue you But if you don't I will look for you I will find you and I will kill you\n"
          ]
        }
      ]
    },
    {
      "cell_type": "code",
      "metadata": {
        "id": "o2ROjZNXHYgW",
        "colab": {
          "base_uri": "https://localhost:8080/"
        },
        "outputId": "7e930290-3235-40db-cb9d-3e508acf35ba"
      },
      "source": [
        "list_of_words = movie_quote.split(' ')\n",
        "print(list_of_words)\n",
        "\n",
        "words_we_want = []\n",
        "\n",
        "for word in list_of_words:\n",
        "  if len(word) > 3:\n",
        "    words_we_want.append(word)\n",
        "\n",
        "\n",
        "# For taking only unique words\n",
        "unique_words = list(set(words_we_want))\n",
        "print(f\"The unique word list is {unique_words} \")"
      ],
      "execution_count": 15,
      "outputs": [
        {
          "output_type": "stream",
          "name": "stdout",
          "text": [
            "['If', 'you', 'let', 'my', 'daughter', 'go', 'now', \"that'll\", 'be', 'the', 'end', 'of', 'it', 'I', 'will', 'not', 'look', 'for', 'you', 'I', 'will', 'not', 'pursue', 'you', 'But', 'if', 'you', \"don't\", 'I', 'will', 'look', 'for', 'you', 'I', 'will', 'find', 'you', 'and', 'I', 'will', 'kill', 'you']\n",
            "The unique word list is ['will', 'look', \"don't\", 'kill', \"that'll\", 'daughter', 'pursue', 'find'] \n"
          ]
        }
      ]
    }
  ]
}